{
 "cells": [
  {
   "cell_type": "code",
   "execution_count": 7,
   "id": "6ed677f4",
   "metadata": {},
   "outputs": [
    {
     "data": {
      "text/plain": [
       "[2, 4, 6, 8]"
      ]
     },
     "execution_count": 7,
     "metadata": {},
     "output_type": "execute_result"
    }
   ],
   "source": [
    "x=[1,2,3,4]\n",
    "x=[i * 2 for i in x]\n",
    "x"
   ]
  },
  {
   "cell_type": "code",
   "execution_count": 8,
   "id": "d066183d",
   "metadata": {},
   "outputs": [
    {
     "data": {
      "text/plain": [
       "[5, 6, 7, 8, 4, 2, 4, 6, 8]"
      ]
     },
     "execution_count": 8,
     "metadata": {},
     "output_type": "execute_result"
    }
   ],
   "source": [
    "y=[5,6,7,8,4]\n",
    "y.extend(x)\n",
    "y"
   ]
  },
  {
   "cell_type": "code",
   "execution_count": 11,
   "id": "2121e85b",
   "metadata": {},
   "outputs": [],
   "source": [
    "x.clear()\n",
    "y.clear()"
   ]
  },
  {
   "cell_type": "code",
   "execution_count": 19,
   "id": "2e6d7063",
   "metadata": {},
   "outputs": [
    {
     "data": {
      "text/plain": [
       "12"
      ]
     },
     "execution_count": 19,
     "metadata": {},
     "output_type": "execute_result"
    }
   ],
   "source": [
    "z=[1,2,3,4,5,54,3,2,1,4,64,3]\n",
    "len(z)"
   ]
  },
  {
   "cell_type": "code",
   "execution_count": 20,
   "id": "25f3b146",
   "metadata": {},
   "outputs": [
    {
     "data": {
      "text/plain": [
       "[64, 54, 5, 4, 4, 3, 3, 3, 2, 2, 1, 1]"
      ]
     },
     "execution_count": 20,
     "metadata": {},
     "output_type": "execute_result"
    }
   ],
   "source": [
    "z.sort(reverse =True)\n",
    "z"
   ]
  },
  {
   "cell_type": "code",
   "execution_count": 21,
   "id": "ff150e81",
   "metadata": {},
   "outputs": [
    {
     "data": {
      "text/plain": [
       "[64, 54, 5, 4, 4, 123345, 3, 3, 3, 2, 2, 1, 1]"
      ]
     },
     "execution_count": 21,
     "metadata": {},
     "output_type": "execute_result"
    }
   ],
   "source": [
    "z.insert(5,123345)\n",
    "z\n"
   ]
  },
  {
   "cell_type": "code",
   "execution_count": 25,
   "id": "e3cb0fe1",
   "metadata": {},
   "outputs": [
    {
     "data": {
      "text/plain": [
       "[1, 4, 3, 4]"
      ]
     },
     "execution_count": 25,
     "metadata": {},
     "output_type": "execute_result"
    }
   ],
   "source": [
    "z.clear()\n",
    "k=[]\n",
    "z=[[1,2,3],[4,5,54],[3,2,1],[4,64,3]]\n",
    "for i in z:\n",
    "    k.append(i[0])\n",
    "k"
   ]
  },
  {
   "cell_type": "code",
   "execution_count": 26,
   "id": "a099bd06",
   "metadata": {},
   "outputs": [
    {
     "data": {
      "text/plain": [
       "{1, 2, 3, 4, 5, 54, 64}"
      ]
     },
     "execution_count": 26,
     "metadata": {},
     "output_type": "execute_result"
    }
   ],
   "source": [
    "z.clear()\n",
    "z=[1,2,3,4,5,54,3,2,1,4,64,3]\n",
    "z=set(z)\n",
    "z"
   ]
  },
  {
   "cell_type": "code",
   "execution_count": 30,
   "id": "abab6e1e",
   "metadata": {},
   "outputs": [
    {
     "data": {
      "text/plain": [
       "{4}"
      ]
     },
     "execution_count": 30,
     "metadata": {},
     "output_type": "execute_result"
    }
   ],
   "source": [
    "x=[1,2,3,4]\n",
    "y=[5,6,7,8,4]\n",
    "set(x).intersection(y)\n"
   ]
  },
  {
   "cell_type": "code",
   "execution_count": 33,
   "id": "b0676e51",
   "metadata": {},
   "outputs": [
    {
     "data": {
      "text/plain": [
       "[3, 54, 1, 3]"
      ]
     },
     "execution_count": 33,
     "metadata": {},
     "output_type": "execute_result"
    }
   ],
   "source": [
    "z=[1,2,3,4,5,54,3,2,1,4,64,3]\n",
    "z[2::3]"
   ]
  },
  {
   "cell_type": "code",
   "execution_count": 34,
   "id": "f4fd63f1",
   "metadata": {},
   "outputs": [
    {
     "data": {
      "text/plain": [
       "1.24"
      ]
     },
     "execution_count": 34,
     "metadata": {},
     "output_type": "execute_result"
    }
   ],
   "source": [
    "round(1.23742,2)"
   ]
  },
  {
   "cell_type": "code",
   "execution_count": 35,
   "id": "db767ba5",
   "metadata": {},
   "outputs": [
    {
     "data": {
      "text/plain": [
       "-1.243"
      ]
     },
     "execution_count": 35,
     "metadata": {},
     "output_type": "execute_result"
    }
   ],
   "source": [
    "round(-1.243225,3)"
   ]
  },
  {
   "cell_type": "code",
   "execution_count": 38,
   "id": "19eb45db",
   "metadata": {},
   "outputs": [
    {
     "data": {
      "text/plain": [
       "16278000"
      ]
     },
     "execution_count": 38,
     "metadata": {},
     "output_type": "execute_result"
    }
   ],
   "source": [
    "import math \n",
    "int(math.ceil(1627731 / 100.0)) * 1000"
   ]
  },
  {
   "cell_type": "code",
   "execution_count": 50,
   "id": "40f39f01",
   "metadata": {},
   "outputs": [
    {
     "data": {
      "text/plain": [
       "'1.23'"
      ]
     },
     "execution_count": 50,
     "metadata": {},
     "output_type": "execute_result"
    }
   ],
   "source": [
    "format(1.234567, '.2f') "
   ]
  },
  {
   "cell_type": "code",
   "execution_count": 51,
   "id": "ef6b033e",
   "metadata": {},
   "outputs": [
    {
     "data": {
      "text/plain": [
       "'2.12346'"
      ]
     },
     "execution_count": 51,
     "metadata": {},
     "output_type": "execute_result"
    }
   ],
   "source": [
    "format(2.1234567, '.5f') "
   ]
  },
  {
   "cell_type": "code",
   "execution_count": 44,
   "id": "8fa89e7c",
   "metadata": {},
   "outputs": [
    {
     "data": {
      "text/plain": [
       "('0b10011010010', '0b1111', '0b1100100')"
      ]
     },
     "execution_count": 44,
     "metadata": {},
     "output_type": "execute_result"
    }
   ],
   "source": [
    "X = 1234\n",
    "Y = 15\n",
    "Z = 100\n",
    "bin(X),bin(Y),bin(Z)\n"
   ]
  },
  {
   "cell_type": "code",
   "execution_count": 45,
   "id": "5bbb2012",
   "metadata": {},
   "outputs": [
    {
     "data": {
      "text/plain": [
       "('0o2322', '0o17', '0o144')"
      ]
     },
     "execution_count": 45,
     "metadata": {},
     "output_type": "execute_result"
    }
   ],
   "source": [
    "oct(X),oct(Y),oct(Z)\n"
   ]
  },
  {
   "cell_type": "code",
   "execution_count": 46,
   "id": "ee071f83",
   "metadata": {},
   "outputs": [
    {
     "data": {
      "text/plain": [
       "('0x4d2', '0xf', '0x64')"
      ]
     },
     "execution_count": 46,
     "metadata": {},
     "output_type": "execute_result"
    }
   ],
   "source": [
    "hex(X),hex(Y),hex(Z)\n"
   ]
  },
  {
   "cell_type": "code",
   "execution_count": 48,
   "id": "ab50c446",
   "metadata": {},
   "outputs": [
    {
     "data": {
      "text/plain": [
       "1234"
      ]
     },
     "execution_count": 48,
     "metadata": {},
     "output_type": "execute_result"
    }
   ],
   "source": [
    "int('4d2',base=16)\n"
   ]
  },
  {
   "cell_type": "code",
   "execution_count": 49,
   "id": "549cb9b6",
   "metadata": {},
   "outputs": [
    {
     "data": {
      "text/plain": [
       "1234"
      ]
     },
     "execution_count": 49,
     "metadata": {},
     "output_type": "execute_result"
    }
   ],
   "source": [
    "int('10011010010',base=2)"
   ]
  },
  {
   "cell_type": "code",
   "execution_count": null,
   "id": "e0d7f46d",
   "metadata": {},
   "outputs": [],
   "source": []
  }
 ],
 "metadata": {
  "kernelspec": {
   "display_name": "Python 3",
   "language": "python",
   "name": "python3"
  },
  "language_info": {
   "codemirror_mode": {
    "name": "ipython",
    "version": 3
   },
   "file_extension": ".py",
   "mimetype": "text/x-python",
   "name": "python",
   "nbconvert_exporter": "python",
   "pygments_lexer": "ipython3",
   "version": "3.8.8"
  }
 },
 "nbformat": 4,
 "nbformat_minor": 5
}
